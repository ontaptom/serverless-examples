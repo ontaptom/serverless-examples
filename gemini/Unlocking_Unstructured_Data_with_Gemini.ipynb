{
  "nbformat": 4,
  "nbformat_minor": 0,
  "metadata": {
    "colab": {
      "provenance": []
    },
    "kernelspec": {
      "name": "python3",
      "display_name": "Python 3"
    },
    "language_info": {
      "name": "python"
    }
  },
  "cells": [
    {
      "cell_type": "markdown",
      "source": [
        "# Unlocking Unstructured Data Potential with Google Gemini 1.0 Pro\n",
        "\n",
        "This notebook contains examples of Python code that are explained in article:\n",
        "\n",
        "https://www.storagefreak.net/2024/02/unlocking-unstructured-data-potential-with-google-gemini-1-0-pro",
        "\n",
        "Google Cloud credits are provided for this project. #GeminiSprint" 
      ],
      "metadata": {
        "id": "9HD_DK77qFul"
      }
    },
    {
      "cell_type": "markdown",
      "source": [
        "## Step 1. Install the Vertex AI SDK"
      ],
      "metadata": {
        "id": "b-hNCqP2qlXR"
      }
    },
    {
      "cell_type": "code",
      "execution_count": null,
      "metadata": {
        "colab": {
          "base_uri": "https://localhost:8080/"
        },
        "id": "uN7Ia7qVp-S5",
        "outputId": "3152dfd7-d0c0-4ffa-d842-205c834c67e7"
      },
      "outputs": [
        {
          "output_type": "stream",
          "name": "stdout",
          "text": [
            "Requirement already satisfied: google-cloud-aiplatform in /usr/local/lib/python3.10/dist-packages (1.42.1)\n",
            "Requirement already satisfied: google-api-core[grpc]!=2.0.*,!=2.1.*,!=2.2.*,!=2.3.*,!=2.4.*,!=2.5.*,!=2.6.*,!=2.7.*,<3.0.0dev,>=1.34.1 in /usr/local/lib/python3.10/dist-packages (from google-cloud-aiplatform) (2.11.1)\n",
            "Requirement already satisfied: google-auth<3.0.0dev,>=2.14.1 in /usr/local/lib/python3.10/dist-packages (from google-cloud-aiplatform) (2.27.0)\n",
            "Requirement already satisfied: proto-plus<2.0.0dev,>=1.22.0 in /usr/local/lib/python3.10/dist-packages (from google-cloud-aiplatform) (1.23.0)\n",
            "Requirement already satisfied: protobuf!=3.20.0,!=3.20.1,!=4.21.0,!=4.21.1,!=4.21.2,!=4.21.3,!=4.21.4,!=4.21.5,<5.0.0dev,>=3.19.5 in /usr/local/lib/python3.10/dist-packages (from google-cloud-aiplatform) (3.20.3)\n",
            "Requirement already satisfied: packaging>=14.3 in /usr/local/lib/python3.10/dist-packages (from google-cloud-aiplatform) (23.2)\n",
            "Requirement already satisfied: google-cloud-storage<3.0.0dev,>=1.32.0 in /usr/local/lib/python3.10/dist-packages (from google-cloud-aiplatform) (2.8.0)\n",
            "Requirement already satisfied: google-cloud-bigquery<4.0.0dev,>=1.15.0 in /usr/local/lib/python3.10/dist-packages (from google-cloud-aiplatform) (3.12.0)\n",
            "Requirement already satisfied: google-cloud-resource-manager<3.0.0dev,>=1.3.3 in /usr/local/lib/python3.10/dist-packages (from google-cloud-aiplatform) (1.12.1)\n",
            "Requirement already satisfied: shapely<3.0.0dev in /usr/local/lib/python3.10/dist-packages (from google-cloud-aiplatform) (2.0.3)\n",
            "Requirement already satisfied: googleapis-common-protos<2.0.dev0,>=1.56.2 in /usr/local/lib/python3.10/dist-packages (from google-api-core[grpc]!=2.0.*,!=2.1.*,!=2.2.*,!=2.3.*,!=2.4.*,!=2.5.*,!=2.6.*,!=2.7.*,<3.0.0dev,>=1.34.1->google-cloud-aiplatform) (1.62.0)\n",
            "Requirement already satisfied: requests<3.0.0.dev0,>=2.18.0 in /usr/local/lib/python3.10/dist-packages (from google-api-core[grpc]!=2.0.*,!=2.1.*,!=2.2.*,!=2.3.*,!=2.4.*,!=2.5.*,!=2.6.*,!=2.7.*,<3.0.0dev,>=1.34.1->google-cloud-aiplatform) (2.31.0)\n",
            "Requirement already satisfied: grpcio<2.0dev,>=1.33.2 in /usr/local/lib/python3.10/dist-packages (from google-api-core[grpc]!=2.0.*,!=2.1.*,!=2.2.*,!=2.3.*,!=2.4.*,!=2.5.*,!=2.6.*,!=2.7.*,<3.0.0dev,>=1.34.1->google-cloud-aiplatform) (1.60.1)\n",
            "Requirement already satisfied: grpcio-status<2.0.dev0,>=1.33.2 in /usr/local/lib/python3.10/dist-packages (from google-api-core[grpc]!=2.0.*,!=2.1.*,!=2.2.*,!=2.3.*,!=2.4.*,!=2.5.*,!=2.6.*,!=2.7.*,<3.0.0dev,>=1.34.1->google-cloud-aiplatform) (1.48.2)\n",
            "Requirement already satisfied: cachetools<6.0,>=2.0.0 in /usr/local/lib/python3.10/dist-packages (from google-auth<3.0.0dev,>=2.14.1->google-cloud-aiplatform) (5.3.2)\n",
            "Requirement already satisfied: pyasn1-modules>=0.2.1 in /usr/local/lib/python3.10/dist-packages (from google-auth<3.0.0dev,>=2.14.1->google-cloud-aiplatform) (0.3.0)\n",
            "Requirement already satisfied: rsa<5,>=3.1.4 in /usr/local/lib/python3.10/dist-packages (from google-auth<3.0.0dev,>=2.14.1->google-cloud-aiplatform) (4.9)\n",
            "Requirement already satisfied: google-cloud-core<3.0.0dev,>=1.6.0 in /usr/local/lib/python3.10/dist-packages (from google-cloud-bigquery<4.0.0dev,>=1.15.0->google-cloud-aiplatform) (2.3.3)\n",
            "Requirement already satisfied: google-resumable-media<3.0dev,>=0.6.0 in /usr/local/lib/python3.10/dist-packages (from google-cloud-bigquery<4.0.0dev,>=1.15.0->google-cloud-aiplatform) (2.7.0)\n",
            "Requirement already satisfied: python-dateutil<3.0dev,>=2.7.2 in /usr/local/lib/python3.10/dist-packages (from google-cloud-bigquery<4.0.0dev,>=1.15.0->google-cloud-aiplatform) (2.8.2)\n",
            "Requirement already satisfied: grpc-google-iam-v1<1.0.0dev,>=0.12.4 in /usr/local/lib/python3.10/dist-packages (from google-cloud-resource-manager<3.0.0dev,>=1.3.3->google-cloud-aiplatform) (0.13.0)\n",
            "Requirement already satisfied: numpy<2,>=1.14 in /usr/local/lib/python3.10/dist-packages (from shapely<3.0.0dev->google-cloud-aiplatform) (1.25.2)\n",
            "Requirement already satisfied: google-crc32c<2.0dev,>=1.0 in /usr/local/lib/python3.10/dist-packages (from google-resumable-media<3.0dev,>=0.6.0->google-cloud-bigquery<4.0.0dev,>=1.15.0->google-cloud-aiplatform) (1.5.0)\n",
            "Requirement already satisfied: pyasn1<0.6.0,>=0.4.6 in /usr/local/lib/python3.10/dist-packages (from pyasn1-modules>=0.2.1->google-auth<3.0.0dev,>=2.14.1->google-cloud-aiplatform) (0.5.1)\n",
            "Requirement already satisfied: six>=1.5 in /usr/local/lib/python3.10/dist-packages (from python-dateutil<3.0dev,>=2.7.2->google-cloud-bigquery<4.0.0dev,>=1.15.0->google-cloud-aiplatform) (1.16.0)\n",
            "Requirement already satisfied: charset-normalizer<4,>=2 in /usr/local/lib/python3.10/dist-packages (from requests<3.0.0.dev0,>=2.18.0->google-api-core[grpc]!=2.0.*,!=2.1.*,!=2.2.*,!=2.3.*,!=2.4.*,!=2.5.*,!=2.6.*,!=2.7.*,<3.0.0dev,>=1.34.1->google-cloud-aiplatform) (3.3.2)\n",
            "Requirement already satisfied: idna<4,>=2.5 in /usr/local/lib/python3.10/dist-packages (from requests<3.0.0.dev0,>=2.18.0->google-api-core[grpc]!=2.0.*,!=2.1.*,!=2.2.*,!=2.3.*,!=2.4.*,!=2.5.*,!=2.6.*,!=2.7.*,<3.0.0dev,>=1.34.1->google-cloud-aiplatform) (3.6)\n",
            "Requirement already satisfied: urllib3<3,>=1.21.1 in /usr/local/lib/python3.10/dist-packages (from requests<3.0.0.dev0,>=2.18.0->google-api-core[grpc]!=2.0.*,!=2.1.*,!=2.2.*,!=2.3.*,!=2.4.*,!=2.5.*,!=2.6.*,!=2.7.*,<3.0.0dev,>=1.34.1->google-cloud-aiplatform) (2.0.7)\n",
            "Requirement already satisfied: certifi>=2017.4.17 in /usr/local/lib/python3.10/dist-packages (from requests<3.0.0.dev0,>=2.18.0->google-api-core[grpc]!=2.0.*,!=2.1.*,!=2.2.*,!=2.3.*,!=2.4.*,!=2.5.*,!=2.6.*,!=2.7.*,<3.0.0dev,>=1.34.1->google-cloud-aiplatform) (2024.2.2)\n"
          ]
        }
      ],
      "source": [
        "pip install --upgrade google-cloud-aiplatform"
      ]
    },
    {
      "cell_type": "markdown",
      "source": [
        "## Step 2. Authenticate to Google Cloud\n",
        "\n",
        "There are different ways we can authenticate our colab to Google Cloud APIs; In my example I will use builtin google.colab library"
      ],
      "metadata": {
        "id": "6czHc32Bq1Br"
      }
    },
    {
      "cell_type": "code",
      "source": [
        "from google.colab import auth as google_auth\n",
        "google_auth.authenticate_user()"
      ],
      "metadata": {
        "id": "vq-vbRpCqt17"
      },
      "execution_count": null,
      "outputs": []
    },
    {
      "cell_type": "markdown",
      "source": [
        "## Step 3. Specify Project ID\n",
        "\n",
        "Assuming you will want to run those examples on your own, you can specify in below code block your valid project_id. Make sure this project has already necessary APIs activated.\n",
        "You can do this in GUI by visiting https://console.cloud.google.com/vertex-ai and clicking on \"Enable all recommended APIs\""
      ],
      "metadata": {
        "id": "2_yMjnoDsfxF"
      }
    },
    {
      "cell_type": "code",
      "source": [
        "PROJECT_ID = \"tomek-bison\" # this is my project_id, you have to update this value for yours ;)"
      ],
      "metadata": {
        "id": "PhqJqUFFr5A8"
      },
      "execution_count": null,
      "outputs": []
    },
    {
      "cell_type": "markdown",
      "source": [
        "## Example 1. Extract dates in given format\n",
        "Below is an example of code that can extract dates from string stored under \"my_string\" variable."
      ],
      "metadata": {
        "id": "7dTOgvIDtCyy"
      }
    },
    {
      "cell_type": "code",
      "source": [
        "import vertexai\n",
        "from vertexai.preview.generative_models import GenerativeModel, Part\n",
        "import vertexai.preview.generative_models as generative_models\n",
        "\n",
        "def extract_dates(input_string):\n",
        "  vertexai.init(project=PROJECT_ID, location=\"us-central1\")\n",
        "  model = GenerativeModel(\"gemini-1.0-pro-001\")\n",
        "  responses = model.generate_content(\n",
        "    f\"\"\"Your job is to extract all dates in the below INPUT. Return all dates in format YYYY-MM-DD. In case of multiple dates, separate them by comma (,). Return only dates, nothing more\n",
        "INPUT: {input_string}\"\"\",\n",
        "    generation_config={\n",
        "        \"max_output_tokens\": 2048,\n",
        "        \"temperature\": 0.9,\n",
        "        \"top_p\": 1\n",
        "    },\n",
        "    safety_settings={\n",
        "          generative_models.HarmCategory.HARM_CATEGORY_HATE_SPEECH: generative_models.HarmBlockThreshold.BLOCK_MEDIUM_AND_ABOVE,\n",
        "          generative_models.HarmCategory.HARM_CATEGORY_DANGEROUS_CONTENT: generative_models.HarmBlockThreshold.BLOCK_MEDIUM_AND_ABOVE,\n",
        "          generative_models.HarmCategory.HARM_CATEGORY_SEXUALLY_EXPLICIT: generative_models.HarmBlockThreshold.BLOCK_MEDIUM_AND_ABOVE,\n",
        "          generative_models.HarmCategory.HARM_CATEGORY_HARASSMENT: generative_models.HarmBlockThreshold.BLOCK_MEDIUM_AND_ABOVE,\n",
        "    },\n",
        "    stream=True,\n",
        "  )\n",
        "\n",
        "  for response in responses:\n",
        "    print(response.text, end=\"\")\n"
      ],
      "metadata": {
        "id": "7TM-p3CEtOrS"
      },
      "execution_count": null,
      "outputs": []
    },
    {
      "cell_type": "markdown",
      "source": [
        "In above examples we have defined a function called `extract_dates` that can be called with one parameter - `input_string`. Of course This code could be a bit polished, defining what happens when function doesn't get input_string, or it doesn't contain any dates, etc. But in current shape and form - it is perfectly good for \"Proof of Concept\". Let's try to call it with `my_string` as parameter"
      ],
      "metadata": {
        "id": "mJkoLpRotseP"
      }
    },
    {
      "cell_type": "code",
      "source": [
        "my_string = \"In our last meeting on Feb 15th, 2023, we discussed the project deadline initially set for 15/02/2023, which was later postponed to March 20th of the same year.\""
      ],
      "metadata": {
        "id": "uJZ_dsVltOlt"
      },
      "execution_count": null,
      "outputs": []
    },
    {
      "cell_type": "code",
      "source": [
        "extract_dates(my_string)"
      ],
      "metadata": {
        "colab": {
          "base_uri": "https://localhost:8080/"
        },
        "id": "V6VEAfpntOw6",
        "outputId": "76a93003-78dd-4d2c-f13d-d0b56a01291d"
      },
      "execution_count": null,
      "outputs": [
        {
          "output_type": "stream",
          "name": "stdout",
          "text": [
            "2023-02-15,2023-02-15,2023-03-20"
          ]
        }
      ]
    },
    {
      "cell_type": "markdown",
      "source": [
        "And there we go. Nice, clean example. Of course this could be also polished a bit more. I would probably add at least one example to my prompt (\"One-shot prompting\"), just to make sure model will always reponse in given format. I would also probably instruct it what to do if there are no dates in the given input, etc.."
      ],
      "metadata": {
        "id": "4o5EoMsCuTKB"
      }
    },
    {
      "cell_type": "markdown",
      "source": [
        "# Example 2. Extract data from user e-mail"
      ],
      "metadata": {
        "id": "uh_Gq1-V4UXN"
      }
    },
    {
      "cell_type": "code",
      "source": [
        "# issue will contain full user e-mail. Below e-mail is of course just an example.\n",
        "\n",
        "issue = '''\n",
        "From: Emily Thompson emily.thompson@company.com\n",
        "Subject: Printer Issue: Assistance Required\n",
        "Email Content:\n",
        "\n",
        "Hey IT Support Team,\n",
        "\n",
        "I hope this message finds you well. I'm in a bit of a bind here with the printer—it's just sitting there, stubbornly refusing to print. I've tried coaxing it, checking its connections, ensuring it's powered on, but no luck. It's like it's decided to take a personal day!\n",
        "Could you work your magic and get this thing back in action? I've got documents piling up that need seeing the light of day.\n",
        "Thanks a bunch for jumping on this!\n",
        "\n",
        "Cheers,\n",
        "Emily\n",
        "'''"
      ],
      "metadata": {
        "id": "ccD7yAAp4gbn"
      },
      "execution_count": null,
      "outputs": []
    },
    {
      "cell_type": "markdown",
      "source": [
        "We would like to extract information necessary to automatically log a ticket. The way and format we pass the data might differ, but in my example let's use JSON structure. This is a well-known format, and fits our example perfectly."
      ],
      "metadata": {
        "id": "kKvTu3hQ4t-w"
      }
    },
    {
      "cell_type": "code",
      "source": [
        "prompt = f'''\n",
        "**Input Text:**\n",
        "{issue}\n",
        "\n",
        "**Instructions:**\n",
        "Given the above input text, extract and organize the information into a structured JSON format. This information will be used to log a ticket, so propose a proper title and category that fits the reported issue. additional_info might include troubleshooting steps already executed, or any other useful information. The output should consist of the JSON structure only, without any additional characters or explanations.\n",
        "\n",
        "**Output structure:**\n",
        "{{\n",
        "    \"name\": \"\",\n",
        "    \"email\": \"\",\n",
        "    \"title\": \"\",\n",
        "    \"category\": \"\",\n",
        "    \"short_summary\": \"\",\n",
        "    \"full_description\": \"\",\n",
        "    \"additional_info\": \"\"\n",
        "}}\n",
        "'''"
      ],
      "metadata": {
        "id": "mVpih0oRuQFq"
      },
      "execution_count": null,
      "outputs": []
    },
    {
      "cell_type": "markdown",
      "source": [
        "And again let's define a function that can call Gemini 1.0 Pro model. I will include the code that was already executed in the first example, such as import vertexai, etc. I'm assuming you can execute only second exapmle without running the first one.\n",
        "\n",
        "Since we already have our prompt defined in above code blocks, this time function will not accept any parameters. Of course in more \"production-like\" environments we would improve the flow."
      ],
      "metadata": {
        "id": "83Kbmsxd5HMF"
      }
    },
    {
      "cell_type": "code",
      "source": [
        "import vertexai\n",
        "from vertexai.preview.generative_models import GenerativeModel, Part\n",
        "import vertexai.preview.generative_models as generative_models\n",
        "\n",
        "def extract_ticket_info():\n",
        "  vertexai.init(project=PROJECT_ID, location=\"us-central1\")\n",
        "  model = GenerativeModel(\"gemini-1.0-pro-001\")\n",
        "  responses = model.generate_content(\n",
        "    prompt,  # this is defined in previous code block\n",
        "    generation_config={\n",
        "        \"max_output_tokens\": 2048,\n",
        "        \"temperature\": 0.9,\n",
        "        \"top_p\": 1\n",
        "    },\n",
        "    safety_settings={\n",
        "          generative_models.HarmCategory.HARM_CATEGORY_HATE_SPEECH: generative_models.HarmBlockThreshold.BLOCK_MEDIUM_AND_ABOVE,\n",
        "          generative_models.HarmCategory.HARM_CATEGORY_DANGEROUS_CONTENT: generative_models.HarmBlockThreshold.BLOCK_MEDIUM_AND_ABOVE,\n",
        "          generative_models.HarmCategory.HARM_CATEGORY_SEXUALLY_EXPLICIT: generative_models.HarmBlockThreshold.BLOCK_MEDIUM_AND_ABOVE,\n",
        "          generative_models.HarmCategory.HARM_CATEGORY_HARASSMENT: generative_models.HarmBlockThreshold.BLOCK_MEDIUM_AND_ABOVE,\n",
        "    },\n",
        "    stream=True,\n",
        "  )\n",
        "\n",
        "  for response in responses:\n",
        "    print(response.text, end=\"\")\n",
        "\n",
        "# run the function\n",
        "extract_ticket_info()\n"
      ],
      "metadata": {
        "colab": {
          "base_uri": "https://localhost:8080/"
        },
        "id": "cbMX_itw4c7b",
        "outputId": "09094140-b71d-4802-8c7d-3d4276ccbcf9"
      },
      "execution_count": null,
      "outputs": [
        {
          "output_type": "stream",
          "name": "stdout",
          "text": [
            "```json\n",
            "{\n",
            "    \"name\": \"Emily Thompson\",\n",
            "    \"email\": \"emily.thompson@company.com\",\n",
            "    \"title\": \"Printer Issue: Inaccessible\",\n",
            "    \"category\": \"Hardware\",\n",
            "    \"short_summary\": \"Printer not printing despite troubleshooting attempts\",\n",
            "    \"full_description\": \"The printer is unresponsive and not printing documents. Power is on, and connections are secure. User has attempted basic troubleshooting steps without success.\",\n",
            "    \"additional_info\": \"Troubleshooting steps executed:\\n1. Checked connections\\n2. Ensured power is on\\n3. Restarted the printer\"\n",
            "}\n",
            "```"
          ]
        }
      ]
    },
    {
      "cell_type": "markdown",
      "source": [
        "And there we have it—a neatly structured, JSON-formatted dataset meticulously extracted from a user's email. This transformation not only showcases the finesse with which unstructured data can be tamed but also underscores the practical utility of Generative AI in everyday problem-solving."
      ],
      "metadata": {
        "id": "Y9FmfCzn6Dpk"
      }
    }
  ]
}
